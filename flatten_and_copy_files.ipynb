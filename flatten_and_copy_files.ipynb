{
 "cells": [
  {
   "cell_type": "code",
   "execution_count": 24,
   "metadata": {},
   "outputs": [],
   "source": [
    "from pathlib import Path\n",
    "import pandas as pd\n",
    "import shutil"
   ]
  },
  {
   "cell_type": "code",
   "execution_count": 25,
   "metadata": {},
   "outputs": [],
   "source": [
    "DISCOGS_DATA_DIR = Path().absolute().parent.parent.parent.joinpath('Soulseek Downloads/complete')\n",
    "DESTINATION_DIR = Path().absolute().parent.parent.parent.joinpath('Music/Soulseek Songs')"
   ]
  },
  {
   "cell_type": "code",
   "execution_count": 26,
   "metadata": {},
   "outputs": [],
   "source": [
    "music_file_paths = ['m4a','opus', 'mp3', 'wav', 'flac', 'aiff']\n",
    "music_files = [elem for elem in list(DISCOGS_DATA_DIR.rglob('*')) if elem.suffix[1:] in music_file_paths]"
   ]
  },
  {
   "cell_type": "code",
   "execution_count": 29,
   "metadata": {},
   "outputs": [],
   "source": [
    "# Move files to destination directory\n",
    "for file_path in music_files:\n",
    "    try:\n",
    "        shutil.move(str(file_path), str(DESTINATION_DIR))\n",
    "    except:\n",
    "        continue"
   ]
  }
 ],
 "metadata": {
  "kernelspec": {
   "display_name": "circubat_eda",
   "language": "python",
   "name": "python3"
  },
  "language_info": {
   "codemirror_mode": {
    "name": "ipython",
    "version": 3
   },
   "file_extension": ".py",
   "mimetype": "text/x-python",
   "name": "python",
   "nbconvert_exporter": "python",
   "pygments_lexer": "ipython3",
   "version": "3.9.18"
  }
 },
 "nbformat": 4,
 "nbformat_minor": 2
}
